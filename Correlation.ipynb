{
 "cells": [
  {
   "cell_type": "code",
   "execution_count": 4,
   "id": "cc2b9214",
   "metadata": {},
   "outputs": [
    {
     "name": "stdout",
     "output_type": "stream",
     "text": [
      "Correlation ratio 1 & 2 = 0.16666666666666666 Positive correlation\n",
      "Correlation ratio 1 & 3 = 0.25 Positive correlation\n",
      "Correlation ratio 1 & 4 = 0.1875 Positive correlation\n",
      "Correlation ratio 1 & 5 = 0.0 No relationship between entities\n",
      "Correlation ratio 1 & 6 = 0.125 Positive correlation\n",
      "Correlation ratio 1 & 7 = 0.25 Positive correlation\n",
      "Correlation ratio 2 & 3 = 0.3333333333333333 Positive correlation\n",
      "Correlation ratio 2 & 4 = 0.16666666666666666 Positive correlation\n",
      "Correlation ratio 2 & 5 = 0.3333333333333333 Positive correlation\n",
      "Correlation ratio 2 & 6 = 0.3333333333333333 Positive correlation\n",
      "Correlation ratio 2 & 7 = 0.16666666666666666 Positive correlation\n",
      "Correlation ratio 3 & 4 = 0.125 Positive correlation\n",
      "Correlation ratio 3 & 5 = 0.0 No relationship between entities\n",
      "Correlation ratio 3 & 6 = 0.25 Positive correlation\n",
      "Correlation ratio 3 & 7 = 0.25 Positive correlation\n",
      "Correlation ratio 4 & 5 = 0.25 Positive correlation\n",
      "Correlation ratio 4 & 6 = 0.125 Positive correlation\n",
      "Correlation ratio 4 & 7 = 0.25 Positive correlation\n",
      "Correlation ratio 5 & 6 = 0.5 Positive correlation\n",
      "Correlation ratio 5 & 7 = 0.0 No relationship between entities\n",
      "Correlation ratio 6 & 7 = 0.0 No relationship between entities\n"
     ]
    }
   ],
   "source": [
    "import csv\n",
    "\n",
    "def read_excel_sheet(file_name):\n",
    "    data = []\n",
    "    with open(file_name, 'r') as file:\n",
    "        reader = csv.reader(file)\n",
    "        for row in reader:\n",
    "            data.append(row)\n",
    "    return data\n",
    "\n",
    "def find_correlation(sheet_data, tid1, tid2):\n",
    "    tid1_count = sum(row[tid1] == \"Y\" for row in sheet_data)\n",
    "    tid2_count = sum(row[tid2] == \"Y\" for row in sheet_data)\n",
    "    total_common_count = sum(row[tid1] == row[tid2] == \"Y\" for row in sheet_data)\n",
    "\n",
    "    if tid1_count == 0 or tid2_count == 0:\n",
    "        return 0\n",
    "\n",
    "    return total_common_count / (tid1_count * tid2_count)\n",
    "\n",
    "def main():\n",
    "    sheet_data = read_excel_sheet(\"Correlation.csv\")\n",
    "    n = len(sheet_data[0]) - 1\n",
    "    data = []\n",
    "\n",
    "    for i in range(n):\n",
    "        for j in range(i + 1, n):\n",
    "            ans = find_correlation(sheet_data[1:], i + 1, j + 1)\n",
    "            verdict = (\n",
    "                \"No relationship between entities\" if ans == 0\n",
    "                else \"Negative correlation\" if ans < 0\n",
    "                else \"Positive correlation\" if ans > 0\n",
    "                else \"Not defined\"\n",
    "            )\n",
    "\n",
    "            print(f\"Correlation ratio {i + 1} & {j + 1} = {ans} {verdict}\")\n",
    "\n",
    "            row = [str(i + 1), str(j + 1), str(ans), verdict]\n",
    "            data.append(row)\n",
    "\n",
    "    with open(\"exp9_output.csv\", 'w', newline='') as output_file:\n",
    "        writer = csv.writer(output_file)\n",
    "        writer.writerow([\"item 1 with tid\", \"item 2 with tid\", \"Correlation coefficient\", \"Type of correlation\"])\n",
    "        writer.writerows(data)\n",
    "\n",
    "main()\n"
   ]
  },
  {
   "cell_type": "code",
   "execution_count": null,
   "id": "0f702d1e",
   "metadata": {},
   "outputs": [],
   "source": []
  }
 ],
 "metadata": {
  "kernelspec": {
   "display_name": "Python 3 (ipykernel)",
   "language": "python",
   "name": "python3"
  },
  "language_info": {
   "codemirror_mode": {
    "name": "ipython",
    "version": 3
   },
   "file_extension": ".py",
   "mimetype": "text/x-python",
   "name": "python",
   "nbconvert_exporter": "python",
   "pygments_lexer": "ipython3",
   "version": "3.9.12"
  }
 },
 "nbformat": 4,
 "nbformat_minor": 5
}
