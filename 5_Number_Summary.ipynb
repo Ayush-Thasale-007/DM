{
 "cells": [
  {
   "cell_type": "code",
   "execution_count": 50,
   "id": "292a4276",
   "metadata": {},
   "outputs": [],
   "source": [
    "import csv"
   ]
  },
  {
   "cell_type": "code",
   "execution_count": 51,
   "id": "7d33787e",
   "metadata": {},
   "outputs": [],
   "source": [
    "data = []\n",
    "with open(\"data.csv\") as file:\n",
    "    reader = csv.reader(file)\n",
    "    data.append(list(reader))"
   ]
  },
  {
   "cell_type": "code",
   "execution_count": 52,
   "id": "b25b6c4c",
   "metadata": {
    "scrolled": true
   },
   "outputs": [],
   "source": [
    "data = data[0]"
   ]
  },
  {
   "cell_type": "code",
   "execution_count": 53,
   "id": "5e6f511c",
   "metadata": {},
   "outputs": [],
   "source": [
    "info = []\n",
    "\n",
    "for val in data:\n",
    "    info.append(float(val[0]))"
   ]
  },
  {
   "cell_type": "code",
   "execution_count": 58,
   "id": "b3f4055f",
   "metadata": {},
   "outputs": [],
   "source": [
    "def median(data):\n",
    "    n = len(data)\n",
    "    if(n%2==1):\n",
    "        return data[n//2]\n",
    "    else:\n",
    "        return (data[n//2] + data[(n//2)-1])/2"
   ]
  },
  {
   "cell_type": "code",
   "execution_count": 59,
   "id": "e93b19d8",
   "metadata": {},
   "outputs": [],
   "source": [
    "def q1(data):\n",
    "    n = len(data)\n",
    "    first = []\n",
    "    for i  in range(0, n//2):\n",
    "        first.append(data[i])\n",
    "    return median(first)"
   ]
  },
  {
   "cell_type": "code",
   "execution_count": 64,
   "id": "cb4087f1",
   "metadata": {},
   "outputs": [],
   "source": [
    "def q3(data):\n",
    "    n = len(data)\n",
    "    third = []\n",
    "    for i  in range(n//2, n):\n",
    "        third.append(data[i])\n",
    "    return median(third)    "
   ]
  },
  {
   "cell_type": "code",
   "execution_count": 65,
   "id": "86e2e86a",
   "metadata": {},
   "outputs": [
    {
     "data": {
      "text/plain": [
       "35.0"
      ]
     },
     "execution_count": 65,
     "metadata": {},
     "output_type": "execute_result"
    }
   ],
   "source": [
    "q1(info)"
   ]
  },
  {
   "cell_type": "code",
   "execution_count": 66,
   "id": "a09e99cc",
   "metadata": {},
   "outputs": [
    {
     "data": {
      "text/plain": [
       "65.0"
      ]
     },
     "execution_count": 66,
     "metadata": {},
     "output_type": "execute_result"
    }
   ],
   "source": [
    "median(info)"
   ]
  },
  {
   "cell_type": "code",
   "execution_count": 67,
   "id": "5b02d62f",
   "metadata": {},
   "outputs": [
    {
     "data": {
      "text/plain": [
       "95.0"
      ]
     },
     "execution_count": 67,
     "metadata": {},
     "output_type": "execute_result"
    }
   ],
   "source": [
    "q3(info)"
   ]
  },
  {
   "cell_type": "code",
   "execution_count": null,
   "id": "a2168807",
   "metadata": {},
   "outputs": [],
   "source": []
  }
 ],
 "metadata": {
  "kernelspec": {
   "display_name": "Python 3 (ipykernel)",
   "language": "python",
   "name": "python3"
  },
  "language_info": {
   "codemirror_mode": {
    "name": "ipython",
    "version": 3
   },
   "file_extension": ".py",
   "mimetype": "text/x-python",
   "name": "python",
   "nbconvert_exporter": "python",
   "pygments_lexer": "ipython3",
   "version": "3.9.12"
  }
 },
 "nbformat": 4,
 "nbformat_minor": 5
}
