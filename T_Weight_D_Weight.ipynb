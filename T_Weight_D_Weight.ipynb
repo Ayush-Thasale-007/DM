{
 "cells": [
  {
   "cell_type": "code",
   "execution_count": 2,
   "id": "25f79c68",
   "metadata": {},
   "outputs": [
    {
     "name": "stdout",
     "output_type": "stream",
     "text": [
      "T-Weights:\n",
      "Class 1, Category 1 (T-Weight): 60.0%\n",
      "Class 1, Category 2 (T-Weight): 40.0%\n",
      "Class 2, Category 1 (T-Weight): 70.0%\n",
      "Class 2, Category 2 (T-Weight): 30.0%\n",
      "\n",
      "D-Weights:\n",
      "Class 1, Category 1 (D-Weight): 30.0%\n",
      "Class 1, Category 2 (D-Weight): 40.0%\n",
      "Class 2, Category 1 (D-Weight): 70.0%\n",
      "Class 2, Category 2 (D-Weight): 60.0%\n"
     ]
    }
   ],
   "source": [
    "counts = [[60, 40], [140, 60]]\n",
    "row_sums = [0] * len(counts)\n",
    "col_sums = [0] * len(counts[0])\n",
    "\n",
    "# Calculate row sums and column sums\n",
    "for i in range(len(counts)):\n",
    "    for j in range(len(counts[i])):\n",
    "        row_sums[i] += counts[i][j]\n",
    "        col_sums[j] += counts[i][j]\n",
    "\n",
    "t_weights = []\n",
    "# Calculate t-weights\n",
    "for i in range(len(counts)):\n",
    "    t_row = []\n",
    "    for j in range(len(counts[i])):\n",
    "        t_row.append(counts[i][j] / row_sums[i] * 100)\n",
    "    t_weights.append(t_row)\n",
    "\n",
    "d_weights = []\n",
    "# Calculate d-weights\n",
    "for i in range(len(counts)):\n",
    "    d_row = []\n",
    "    for j in range(len(counts[i])):\n",
    "        d_row.append(counts[i][j] / col_sums[j] * 100)\n",
    "    d_weights.append(d_row)\n",
    "\n",
    "# Print the t-weights\n",
    "print(\"T-Weights:\")\n",
    "for i in range(len(t_weights)):\n",
    "    for j in range(len(t_weights[i])):\n",
    "        print(f\"Class {i + 1}, Category {j + 1} (T-Weight): {t_weights[i][j]}%\")\n",
    "\n",
    "# Print the d-weights\n",
    "print(\"\\nD-Weights:\")\n",
    "for i in range(len(d_weights)):\n",
    "    for j in range(len(d_weights[i])):\n",
    "        print(f\"Class {i + 1}, Category {j + 1} (D-Weight): {d_weights[i][j]}%\")\n"
   ]
  },
  {
   "cell_type": "code",
   "execution_count": null,
   "id": "9dd008c2",
   "metadata": {},
   "outputs": [],
   "source": []
  }
 ],
 "metadata": {
  "kernelspec": {
   "display_name": "Python 3 (ipykernel)",
   "language": "python",
   "name": "python3"
  },
  "language_info": {
   "codemirror_mode": {
    "name": "ipython",
    "version": 3
   },
   "file_extension": ".py",
   "mimetype": "text/x-python",
   "name": "python",
   "nbconvert_exporter": "python",
   "pygments_lexer": "ipython3",
   "version": "3.9.12"
  }
 },
 "nbformat": 4,
 "nbformat_minor": 5
}
