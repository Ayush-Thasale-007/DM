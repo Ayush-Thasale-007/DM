{
 "cells": [
  {
   "cell_type": "code",
   "execution_count": null,
   "id": "92c0a7a1",
   "metadata": {},
   "outputs": [],
   "source": [
    "import cv2\n",
    "import numpy as np\n",
    "# Load an example grayscale image\n",
    "img = cv2.imread('image-14.jpg', \n",
    "cv2.IMREAD_GRAYSCALE)\n",
    "# Define the number of bins (in this case, 4)\n",
    "num_bins = 4\n",
    "# Calculate bin size\n",
    "bin_size = 256 // num_bins\n",
    "# Apply binning\n",
    "binned_img = (img // bin_size) * bin_size\n",
    "# Display original and binned images\n",
    "cv2.imshow('Original Image', img)\n",
    "cv2.imshow('Binned Image', binned_img)\n",
    "cv2.waitKey(0)\n",
    "cv2.destroyAllWindows()\n"
   ]
  }
 ],
 "metadata": {
  "kernelspec": {
   "display_name": "Python 3 (ipykernel)",
   "language": "python",
   "name": "python3"
  },
  "language_info": {
   "codemirror_mode": {
    "name": "ipython",
    "version": 3
   },
   "file_extension": ".py",
   "mimetype": "text/x-python",
   "name": "python",
   "nbconvert_exporter": "python",
   "pygments_lexer": "ipython3",
   "version": "3.9.12"
  }
 },
 "nbformat": 4,
 "nbformat_minor": 5
}
